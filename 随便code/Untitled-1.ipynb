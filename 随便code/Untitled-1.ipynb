{
 "cells": [
  {
   "cell_type": "code",
   "execution_count": 1,
   "metadata": {},
   "outputs": [],
   "source": [
    "import pandas as pd\n",
    "import numpy as np\n",
    "\n",
    "df = pd.DataFrame({'A': [1, 2, 3], 'B': [4, 5, 6], 'C': [7, 8, 9]})"
   ]
  },
  {
   "cell_type": "code",
   "execution_count": 2,
   "metadata": {},
   "outputs": [
    {
     "data": {
      "text/html": [
       "<div>\n",
       "<style scoped>\n",
       "    .dataframe tbody tr th:only-of-type {\n",
       "        vertical-align: middle;\n",
       "    }\n",
       "\n",
       "    .dataframe tbody tr th {\n",
       "        vertical-align: top;\n",
       "    }\n",
       "\n",
       "    .dataframe thead th {\n",
       "        text-align: right;\n",
       "    }\n",
       "</style>\n",
       "<table border=\"1\" class=\"dataframe\">\n",
       "  <thead>\n",
       "    <tr style=\"text-align: right;\">\n",
       "      <th></th>\n",
       "      <th>A</th>\n",
       "      <th>B</th>\n",
       "      <th>C</th>\n",
       "    </tr>\n",
       "  </thead>\n",
       "  <tbody>\n",
       "    <tr>\n",
       "      <th>0</th>\n",
       "      <td>1</td>\n",
       "      <td>4</td>\n",
       "      <td>7</td>\n",
       "    </tr>\n",
       "    <tr>\n",
       "      <th>1</th>\n",
       "      <td>2</td>\n",
       "      <td>5</td>\n",
       "      <td>8</td>\n",
       "    </tr>\n",
       "    <tr>\n",
       "      <th>2</th>\n",
       "      <td>3</td>\n",
       "      <td>6</td>\n",
       "      <td>9</td>\n",
       "    </tr>\n",
       "  </tbody>\n",
       "</table>\n",
       "</div>"
      ],
      "text/plain": [
       "   A  B  C\n",
       "0  1  4  7\n",
       "1  2  5  8\n",
       "2  3  6  9"
      ]
     },
     "execution_count": 2,
     "metadata": {},
     "output_type": "execute_result"
    }
   ],
   "source": [
    "df"
   ]
  },
  {
   "cell_type": "code",
   "execution_count": 4,
   "metadata": {},
   "outputs": [
    {
     "data": {
      "text/plain": [
       "0       0\n",
       "A  1\n",
       "B  4\n",
       "C  7\n",
       "1       1\n",
       "A  2\n",
       "B  5\n",
       "C  8\n",
       "2       2\n",
       "A  3\n",
       "B  6\n",
       "C  9\n",
       "dtype: object"
      ]
     },
     "execution_count": 4,
     "metadata": {},
     "output_type": "execute_result"
    }
   ],
   "source": [
    "df.apply(lambda row:pd.DataFrame(row), axis = 1)"
   ]
  },
  {
   "cell_type": "code",
   "execution_count": 16,
   "metadata": {},
   "outputs": [
    {
     "data": {
      "text/plain": [
       "0    1\n",
       "1    2\n",
       "2    3\n",
       "dtype: int64"
      ]
     },
     "execution_count": 16,
     "metadata": {},
     "output_type": "execute_result"
    }
   ],
   "source": [
    "df.apply(lambda row:row['A'], axis = 1)"
   ]
  },
  {
   "cell_type": "code",
   "execution_count": 5,
   "metadata": {},
   "outputs": [
    {
     "data": {
      "text/plain": [
       "0       A  B  C\n",
       "0  1  4  7\n",
       "1       A  B  C\n",
       "1  2  5  8\n",
       "2       A  B  C\n",
       "2  3  6  9\n",
       "dtype: object"
      ]
     },
     "execution_count": 5,
     "metadata": {},
     "output_type": "execute_result"
    }
   ],
   "source": [
    "df.apply(lambda row:pd.DataFrame([row]), axis = 1)"
   ]
  },
  {
   "cell_type": "code",
   "execution_count": 7,
   "metadata": {},
   "outputs": [
    {
     "data": {
      "text/plain": [
       "pandas.core.series.Series"
      ]
     },
     "execution_count": 7,
     "metadata": {},
     "output_type": "execute_result"
    }
   ],
   "source": [
    "type(df['A'])"
   ]
  },
  {
   "cell_type": "code",
   "execution_count": 10,
   "metadata": {},
   "outputs": [
    {
     "data": {
      "text/plain": [
       "pandas.core.series.Series"
      ]
     },
     "execution_count": 10,
     "metadata": {},
     "output_type": "execute_result"
    }
   ],
   "source": [
    "type(df.iloc[0,:])"
   ]
  },
  {
   "cell_type": "code",
   "execution_count": 12,
   "metadata": {},
   "outputs": [
    {
     "data": {
      "text/plain": [
       "A    1\n",
       "B    4\n",
       "C    7\n",
       "Name: 0, dtype: int64"
      ]
     },
     "execution_count": 12,
     "metadata": {},
     "output_type": "execute_result"
    }
   ],
   "source": [
    "slice = df.iloc[0,:]\n",
    "slice"
   ]
  },
  {
   "cell_type": "code",
   "execution_count": 13,
   "metadata": {},
   "outputs": [
    {
     "data": {
      "text/plain": [
       "1"
      ]
     },
     "execution_count": 13,
     "metadata": {},
     "output_type": "execute_result"
    }
   ],
   "source": [
    "slice['A']"
   ]
  },
  {
   "cell_type": "code",
   "execution_count": null,
   "metadata": {},
   "outputs": [],
   "source": []
  },
  {
   "cell_type": "code",
   "execution_count": 18,
   "metadata": {},
   "outputs": [
    {
     "name": "stdout",
     "output_type": "stream",
     "text": [
      "   A  B    C\n",
      "0  1  x  4.0\n",
      "1  2  y  5.5\n",
      "2  3  z  6.1\n"
     ]
    }
   ],
   "source": [
    "from pyspark.sql import SparkSession\n",
    "import pandas as pd\n",
    "\n",
    "# 初始化 Spark 会话\n",
    "spark = SparkSession.builder \\\n",
    "    .appName(\"ArrowOptimization\") \\\n",
    "    .getOrCreate()\n",
    "\n",
    "# 启用 Arrow 优化\n",
    "spark.conf.set(\"spark.sql.execution.arrow.pyspark.enabled\", \"true\")\n",
    "\n",
    "# 创建 Pandas DataFrame\n",
    "pandas_df = pd.DataFrame({\n",
    "    'A': [1, 2, 3],\n",
    "    'B': ['x', 'y', 'z'],\n",
    "    'C': [4.0, 5.5, 6.1]\n",
    "})\n",
    "\n",
    "# 转换为 Spark DataFrame\n",
    "spark_df = spark.createDataFrame(pandas_df)\n",
    "\n",
    "# 转换回 Pandas DataFrame\n",
    "result_pandas_df = spark_df.toPandas()\n",
    "\n",
    "print(result_pandas_df)\n"
   ]
  },
  {
   "cell_type": "code",
   "execution_count": 1,
   "metadata": {},
   "outputs": [],
   "source": [
    "!pip freeze > requirements.txt"
   ]
  },
  {
   "cell_type": "code",
   "execution_count": null,
   "metadata": {},
   "outputs": [],
   "source": []
  },
  {
   "cell_type": "code",
   "execution_count": null,
   "metadata": {},
   "outputs": [
    {
     "name": "stderr",
     "output_type": "stream",
     "text": [
      "Processing UIDs:   0%|          | 0/3 [00:00<?, ?it/s]"
     ]
    }
   ],
   "source": [
    "import pandas as pd\n",
    "import multiprocessing\n",
    "from tqdm import tqdm\n",
    "\n",
    "# 处理每个分组的函数\n",
    "def process_group(group_sorted):\n",
    "    selected_dates = []\n",
    "    if len(group_sorted) == 1:\n",
    "        selected_dates.append(group_sorted)\n",
    "    elif len(group_sorted) == 2:\n",
    "        date_diff = (group_sorted.iloc[1]['mdl_dte'] - group_sorted.iloc[0]['mdl_dte']).days\n",
    "        if date_diff >= 30:\n",
    "            selected_dates.append(group_sorted)\n",
    "        else:\n",
    "            selected_dates.append(group_sorted.iloc[:1])\n",
    "    else:\n",
    "        selected_dates.append(group_sorted.iloc[0])  # 选中第一个日期\n",
    "        last_date = group_sorted.iloc[0]['mdl_dte']\n",
    "        \n",
    "        for i in range(1, len(group_sorted)):\n",
    "            date_diff = (group_sorted.iloc[i]['mdl_dte'] - last_date).days\n",
    "            if date_diff >= 30:\n",
    "                selected_dates.append(group_sorted.iloc[i:i+1])\n",
    "                last_date = group_sorted.iloc[i]['mdl_dte']\n",
    "    return pd.DataFrame(selected_dates)\n",
    "\n",
    "# 处理每个uid的函数\n",
    "def process_repayment_data_parallel(df):\n",
    "    # 按uid分组\n",
    "    grouped = df.groupby('uid')\n",
    "\n",
    "    # 结果存储\n",
    "    results = []\n",
    "\n",
    "    # 使用multiprocessing的Pool\n",
    "    with multiprocessing.Pool(processes=multiprocessing.cpu_count()) as pool:\n",
    "        # 使用tqdm显示进度条\n",
    "        results = list(tqdm(pool.imap(process_group, [group.sort_values(by='mdl_dte') for _, group in grouped]),\n",
    "                            total=len(grouped), desc=\"Processing UIDs\"))\n",
    "    \n",
    "    # 合并所有结果\n",
    "    # 将所有非空的DataFrame合并\n",
    "    valid_results = [result for result in results if not result.empty]\n",
    "    \n",
    "    if valid_results:\n",
    "        return pd.concat(valid_results, ignore_index=True)\n",
    "    else:\n",
    "        print(\"No valid results to concatenate.\")\n",
    "        return pd.DataFrame()\n",
    "\n",
    "# 示例数据\n",
    "data = {\n",
    "    'uid': ['A', 'A', 'A', 'B', 'B', 'C'],\n",
    "    'mdl_dte': ['2024-01-01', '2024-02-15', '2024-03-30', '2024-01-01', '2024-02-01', '2024-01-01']\n",
    "}\n",
    "df = pd.DataFrame(data)\n",
    "df['mdl_dte'] = pd.to_datetime(df['mdl_dte'])\n",
    "\n",
    "# 执行并行处理\n",
    "processed_df = process_repayment_data_parallel(df)\n",
    "print(processed_df)"
   ]
  },
  {
   "cell_type": "code",
   "execution_count": null,
   "metadata": {},
   "outputs": [],
   "source": [
    "import multiprocessing\n",
    "import time\n",
    "import operator\n",
    "\n",
    "def do_something(item):\n",
    "    functions = [fun1, fun2, fun3, fun4]\n",
    "    #print(item)\n",
    "    #print(functions[item])\n",
    "    functions[item]( )\n",
    "\n",
    "def fun1():\n",
    "    list(range(10, 300000000))\n",
    "\n",
    "def fun2():\n",
    "    list(range(10, 300000000))\n",
    "    \n",
    "def fun3():\n",
    "    list(range(10, 300000000))\n",
    "\n",
    "def fun4():\n",
    "    list(range(10, 300000000))\n",
    "    \n",
    "if __name__ == '__main__':\n",
    "    #### 多线程运行  ####\n",
    "    start = time.time()\n",
    "    items = [0,1,2,3]\n",
    "    p = multiprocessing.Pool()\n",
    "    b = p.map(do_something, items)\n",
    "    p.close()\n",
    "    p.join()\n",
    "    end = time.time()\n",
    "    print('multi processing time:',str(end-start),'s')\n",
    "    #### 单线程运行 ####\n",
    "    begin = time.time()\n",
    "    functions = [fun1, fun2, fun3, fun4]\n",
    "    for func in functions:\n",
    "        func()\n",
    "    end = time.time()\n",
    "    process_time = end - begin\n",
    "    print('single process time is:%s'%(str(process_time)))"
   ]
  },
  {
   "cell_type": "code",
   "execution_count": null,
   "metadata": {},
   "outputs": [],
   "source": []
  },
  {
   "cell_type": "code",
   "execution_count": 1,
   "metadata": {},
   "outputs": [
    {
     "name": "stdout",
     "output_type": "stream",
     "text": [
      "A\n",
      "Z\n",
      "AA\n",
      "AZ\n",
      "BA\n"
     ]
    }
   ],
   "source": [
    "def int_to_excel_column(n):\n",
    "    result = \"\"\n",
    "    while n > 0:\n",
    "        n -= 1  # 调整n，使其从0开始，这样'Z'对应的值是26而不是25\n",
    "        result = chr(n % 26 + 65) + result  # 将当前余数转换为字符\n",
    "        n //= 26  # 减少n，进行下一轮的计算\n",
    "    return result\n",
    "\n",
    "# 示例\n",
    "print(int_to_excel_column(1))   # 输出 \"A\"\n",
    "print(int_to_excel_column(26))  # 输出 \"Z\"\n",
    "print(int_to_excel_column(27))  # 输出 \"AA\"\n",
    "print(int_to_excel_column(52))  # 输出 \"AZ\"\n",
    "print(int_to_excel_column(53))  # 输出 \"BA\""
   ]
  },
  {
   "cell_type": "code",
   "execution_count": null,
   "metadata": {},
   "outputs": [],
   "source": []
  },
  {
   "cell_type": "code",
   "execution_count": null,
   "metadata": {},
   "outputs": [],
   "source": []
  },
  {
   "cell_type": "code",
   "execution_count": 1,
   "metadata": {},
   "outputs": [
    {
     "data": {
      "text/html": [
       "<div>\n",
       "<style scoped>\n",
       "    .dataframe tbody tr th:only-of-type {\n",
       "        vertical-align: middle;\n",
       "    }\n",
       "\n",
       "    .dataframe tbody tr th {\n",
       "        vertical-align: top;\n",
       "    }\n",
       "\n",
       "    .dataframe thead th {\n",
       "        text-align: right;\n",
       "    }\n",
       "</style>\n",
       "<table border=\"1\" class=\"dataframe\">\n",
       "  <thead>\n",
       "    <tr style=\"text-align: right;\">\n",
       "      <th></th>\n",
       "      <th>A</th>\n",
       "      <th>B</th>\n",
       "    </tr>\n",
       "  </thead>\n",
       "  <tbody>\n",
       "    <tr>\n",
       "      <th>0</th>\n",
       "      <td>4</td>\n",
       "      <td>9</td>\n",
       "    </tr>\n",
       "    <tr>\n",
       "      <th>1</th>\n",
       "      <td>4</td>\n",
       "      <td>9</td>\n",
       "    </tr>\n",
       "    <tr>\n",
       "      <th>2</th>\n",
       "      <td>4</td>\n",
       "      <td>9</td>\n",
       "    </tr>\n",
       "  </tbody>\n",
       "</table>\n",
       "</div>"
      ],
      "text/plain": [
       "   A  B\n",
       "0  4  9\n",
       "1  4  9\n",
       "2  4  9"
      ]
     },
     "execution_count": 1,
     "metadata": {},
     "output_type": "execute_result"
    }
   ],
   "source": [
    "import pandas as pd\n",
    "import numpy as np\n",
    "df = pd.DataFrame([[4, 9]] * 3, columns=['A', 'B'])\n",
    "df"
   ]
  },
  {
   "cell_type": "code",
   "execution_count": 3,
   "metadata": {},
   "outputs": [
    {
     "data": {
      "text/plain": [
       "A    12\n",
       "B    27\n",
       "dtype: int64"
      ]
     },
     "execution_count": 3,
     "metadata": {},
     "output_type": "execute_result"
    }
   ],
   "source": [
    "df.apply(np.sum, axis = 'index')"
   ]
  },
  {
   "cell_type": "code",
   "execution_count": 5,
   "metadata": {},
   "outputs": [
    {
     "data": {
      "text/plain": [
       "A    12\n",
       "B    27\n",
       "dtype: int64"
      ]
     },
     "execution_count": 5,
     "metadata": {},
     "output_type": "execute_result"
    }
   ],
   "source": [
    "df.apply(np.sum, axis = 0)"
   ]
  },
  {
   "cell_type": "code",
   "execution_count": 4,
   "metadata": {},
   "outputs": [
    {
     "data": {
      "text/plain": [
       "0    13\n",
       "1    13\n",
       "2    13\n",
       "dtype: int64"
      ]
     },
     "execution_count": 4,
     "metadata": {},
     "output_type": "execute_result"
    }
   ],
   "source": [
    "df.apply(np.sum, axis = 'columns')"
   ]
  },
  {
   "cell_type": "code",
   "execution_count": null,
   "metadata": {},
   "outputs": [],
   "source": []
  },
  {
   "cell_type": "code",
   "execution_count": 2,
   "metadata": {},
   "outputs": [
    {
     "data": {
      "text/plain": [
       "numpy.ndarray"
      ]
     },
     "execution_count": 2,
     "metadata": {},
     "output_type": "execute_result"
    }
   ],
   "source": [
    "import numpy as np\n",
    "x = np.array([1, 2, 3], np.int32)\n",
    "type(x)"
   ]
  },
  {
   "cell_type": "code",
   "execution_count": 3,
   "metadata": {},
   "outputs": [
    {
     "data": {
      "text/plain": [
       "array([1, 2, 3])"
      ]
     },
     "execution_count": 3,
     "metadata": {},
     "output_type": "execute_result"
    }
   ],
   "source": [
    "x"
   ]
  },
  {
   "cell_type": "code",
   "execution_count": null,
   "metadata": {},
   "outputs": [],
   "source": []
  },
  {
   "cell_type": "code",
   "execution_count": 1,
   "metadata": {},
   "outputs": [],
   "source": [
    "def is_prime(n):\n",
    "    if n <= 1:\n",
    "        return False\n",
    "    for i in range(2, int(n ** 0.5) + 1):\n",
    "        if n % i == 0:\n",
    "            return False\n",
    "    return True\n",
    "\n",
    "# import multiprocessing\n",
    "# multiprocessing.cpu_count()"
   ]
  },
  {
   "cell_type": "code",
   "execution_count": 2,
   "metadata": {},
   "outputs": [
    {
     "name": "stdout",
     "output_type": "stream",
     "text": [
      "Time taken for single thread:  0.006018638610839844\n"
     ]
    }
   ],
   "source": [
    "num_list = [i + 10000 for i in range(10000)]\n",
    "import time\n",
    "start_time = time.time()\n",
    "results = [is_prime(num) for num in num_list]\n",
    "end_time = time.time()\n",
    "print(\"Time taken for single thread: \", end_time - start_time)"
   ]
  },
  {
   "cell_type": "code",
   "execution_count": null,
   "metadata": {},
   "outputs": [],
   "source": [
    "import multiprocessing\n",
    "multiprocessing.cpu_count()\n",
    "\n",
    "def parallel_process(num_list):\n",
    "    cpu_num = 5\n",
    "    # num_list = [i + 10000 for i in range(10000)]\n",
    "    with multiprocessing.Pool(cpu_num) as p:\n",
    "        results = p.map(is_prime, num_list)\n",
    "    return results\n",
    "\n",
    "num_list = [i + 10000 for i in range(10000)]\n",
    "parallel_process(num_list)"
   ]
  },
  {
   "cell_type": "code",
   "execution_count": null,
   "metadata": {},
   "outputs": [],
   "source": []
  },
  {
   "cell_type": "code",
   "execution_count": 1,
   "metadata": {},
   "outputs": [],
   "source": [
    "import concurrent.futures\n",
    "\n",
    "def worker(num):\n",
    "    print(f\"Worker {num} is working\")\n",
    "\n",
    "if __name__ == \"__main__\":\n",
    "    with concurrent.futures.ProcessPoolExecutor() as executor:\n",
    "        executor.map(worker, range(10))\n"
   ]
  }
 ],
 "metadata": {
  "kernelspec": {
   "display_name": "Python 3",
   "language": "python",
   "name": "python3"
  },
  "language_info": {
   "codemirror_mode": {
    "name": "ipython",
    "version": 3
   },
   "file_extension": ".py",
   "mimetype": "text/x-python",
   "name": "python",
   "nbconvert_exporter": "python",
   "pygments_lexer": "ipython3",
   "version": "3.10.9"
  }
 },
 "nbformat": 4,
 "nbformat_minor": 2
}
