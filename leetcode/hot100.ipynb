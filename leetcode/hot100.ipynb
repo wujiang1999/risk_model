{
 "cells": [
  {
   "cell_type": "markdown",
   "metadata": {},
   "source": [
    "##### 最长连续序列\n",
    "###### 给定一个未排序的整数数组 nums ，找出数字连续的最长序列（不要求序列元素在原数组中连续）的长度。\n",
    "###### 请你设计并实现时间复杂度为 O(n) 的算法解决此问题。"
   ]
  },
  {
   "cell_type": "code",
   "execution_count": 1,
   "metadata": {},
   "outputs": [
    {
     "data": {
      "text/plain": [
       "4"
      ]
     },
     "execution_count": 1,
     "metadata": {},
     "output_type": "execute_result"
    }
   ],
   "source": [
    "nums = [100, 4 , 200, 1, 3, 2]\n",
    "\n",
    "from typing import List\n",
    "class Solution:\n",
    "    def longestConsecutive(self, nums: List[int]) -> int:\n",
    "        nums = set(nums)\n",
    "        res = 1\n",
    "        for num in nums:\n",
    "            if num - 1 in nums:\n",
    "                pass\n",
    "            else:\n",
    "                tmp = 1\n",
    "                while num + 1 in nums:\n",
    "                    tmp += 1\n",
    "                    num += 1\n",
    "                res = max(res, tmp)\n",
    "        return res\n",
    "\n",
    "Solution().longestConsecutive(nums)"
   ]
  },
  {
   "cell_type": "markdown",
   "metadata": {},
   "source": [
    "##### 盛水最多的容器\n",
    "###### 给定一个长度为 n 的整数数组 height 。有 n 条垂线，第 i 条线的两个端点是 (i, 0) 和 (i, height[i]) 。\n",
    "###### 找出其中的两条线，使得它们与 x 轴共同构成的容器可以容纳最多的水。"
   ]
  },
  {
   "cell_type": "code",
   "execution_count": 2,
   "metadata": {},
   "outputs": [
    {
     "data": {
      "text/plain": [
       "49"
      ]
     },
     "execution_count": 2,
     "metadata": {},
     "output_type": "execute_result"
    }
   ],
   "source": [
    "height = [1,8,6,2,5,4,8,3,7]\n",
    "class Solution:\n",
    "    def maxArea(self, height: List[int]) -> int:\n",
    "        i, j = 0, len(height) - 1\n",
    "        res = 0\n",
    "        while i < j:\n",
    "            if height[i] < height[j]:\n",
    "                res = max(res, height[i] * (j - i))\n",
    "                i += 1\n",
    "            else:\n",
    "                res = max(res, height[j] * (j - i))\n",
    "                j -= 1\n",
    "        return res\n",
    "\n",
    "Solution().maxArea(height)"
   ]
  },
  {
   "cell_type": "markdown",
   "metadata": {},
   "source": [
    "##### 三数之和"
   ]
  },
  {
   "cell_type": "code",
   "execution_count": 4,
   "metadata": {},
   "outputs": [
    {
     "data": {
      "text/plain": [
       "[[-1, -1, 2], [-1, 0, 1]]"
      ]
     },
     "execution_count": 4,
     "metadata": {},
     "output_type": "execute_result"
    }
   ],
   "source": [
    "nums = [-1, 0, 1, 2, -1, -4]\n",
    "class Solution:\n",
    "    def threeSum(self, nums: List[int]) -> List[List[int]]:\n",
    "        if not nums or len(nums) < 3:\n",
    "            return []\n",
    "        nums.sort()\n",
    "        res = []\n",
    "        for i in range(len(nums)):\n",
    "            if nums[i] > 0:\n",
    "                return res\n",
    "            if i > 0 and nums[i] == nums[i - 1]:\n",
    "                continue\n",
    "            L, R = i + 1, len(nums) - 1\n",
    "            while L < R:\n",
    "                if nums[i] + nums[L] + nums[R] == 0:\n",
    "                    res.append([nums[i], nums[L], nums[R]])\n",
    "                    while L < R and nums[L] == nums[L + 1]:\n",
    "                        L += 1\n",
    "                    while L < R and nums[R] == nums[R - 1]:\n",
    "                        R -= 1\n",
    "                    L += 1\n",
    "                    R -= 1\n",
    "                elif nums[i] + nums[L] + nums[R] > 0:\n",
    "                    R -= 1\n",
    "                else:\n",
    "                    L += 1        \n",
    "        return res\n",
    "            \n",
    "Solution().threeSum(nums)"
   ]
  },
  {
   "cell_type": "markdown",
   "metadata": {},
   "source": [
    "##### 无重复字符串的最长子串"
   ]
  },
  {
   "cell_type": "code",
   "execution_count": 9,
   "metadata": {},
   "outputs": [
    {
     "data": {
      "text/plain": [
       "3"
      ]
     },
     "execution_count": 9,
     "metadata": {},
     "output_type": "execute_result"
    }
   ],
   "source": [
    "s = \"abcabcbb\"\n",
    "class Solution:\n",
    "    def lengthOfLongestSubstring(self, s: str) -> int:\n",
    "        if len(s) == 0:\n",
    "            return 0\n",
    "        res = 0\n",
    "        left = 0\n",
    "        char_set = set()\n",
    "        for right in range(len(s)):\n",
    "            while s[right] in char_set:\n",
    "                char_set.remove(s[left])\n",
    "                left += 1\n",
    "            char_set.add(s[right])\n",
    "            res = max(res, right - left + 1)\n",
    "        return res\n",
    "\n",
    "Solution().lengthOfLongestSubstring(s)"
   ]
  },
  {
   "cell_type": "code",
   "execution_count": 10,
   "metadata": {},
   "outputs": [
    {
     "data": {
      "text/plain": [
       "10"
      ]
     },
     "execution_count": 10,
     "metadata": {},
     "output_type": "execute_result"
    }
   ],
   "source": [
    "len(\"cbaebabacd\")"
   ]
  },
  {
   "cell_type": "code",
   "execution_count": 16,
   "metadata": {},
   "outputs": [
    {
     "name": "stdout",
     "output_type": "stream",
     "text": [
      "0 c\n",
      "1 b\n",
      "2 a\n",
      "Counter({'c': 1, 'b': 1, 'a': 1})\n",
      "3 e\n",
      "Counter({'b': 1, 'a': 1, 'e': 1, 'c': 0})\n",
      "4 b\n",
      "Counter({'b': 1, 'a': 1, 'e': 1, 'c': 0})\n",
      "5 a\n",
      "Counter({'b': 1, 'a': 1, 'e': 1, 'c': 0})\n",
      "6 b\n",
      "Counter({'b': 2, 'a': 1, 'c': 0, 'e': 0})\n",
      "7 a\n",
      "Counter({'a': 2, 'b': 1, 'c': 0, 'e': 0})\n",
      "8 c\n",
      "Counter({'c': 1, 'b': 1, 'a': 1, 'e': 0})\n",
      "9 d\n",
      "Counter({'c': 1, 'a': 1, 'd': 1, 'b': 0, 'e': 0})\n"
     ]
    },
    {
     "data": {
      "text/plain": [
       "[0, 6]"
      ]
     },
     "execution_count": 16,
     "metadata": {},
     "output_type": "execute_result"
    }
   ],
   "source": [
    "from collections import Counter\n",
    "s = \"cbaebabacd\"\n",
    "p = \"abc\"\n",
    "\n",
    "class Solution:\n",
    "    def findAnagrams(self, s: str, p: str) -> List[int]:\n",
    "        ans = []\n",
    "        cnt_p = Counter(p)  # 统计 p 的每种字母的出现次数\n",
    "        # print(cnt_p)\n",
    "        cnt_s = Counter()  # 统计 s 的长为 len(p) 的子串 s' 的每种字母的出现次数\n",
    "        for right, c in enumerate(s):\n",
    "            print(right, c)\n",
    "            cnt_s[c] += 1  # 右端点字母进入窗口\n",
    "            left = right - len(p) + 1\n",
    "            if left < 0:  # 窗口长度不足 len(p)\n",
    "                continue\n",
    "            print(cnt_s)\n",
    "            if cnt_s == cnt_p:  # s' 和 p 的每种字母的出现次数都相同\n",
    "                ans.append(left)  # s' 左端点下标加入答案\n",
    "            cnt_s[s[left]] -= 1  # 左端点字母离开窗口\n",
    "        return ans\n",
    "Solution().findAnagrams(s, p)"
   ]
  },
  {
   "cell_type": "code",
   "execution_count": 18,
   "metadata": {},
   "outputs": [
    {
     "data": {
      "text/plain": [
       "1"
      ]
     },
     "execution_count": 18,
     "metadata": {},
     "output_type": "execute_result"
    }
   ],
   "source": [
    "nums = [-2,1,-3,4,-1,2,1,-5,4]\n",
    "sum(nums)"
   ]
  },
  {
   "cell_type": "code",
   "execution_count": 22,
   "metadata": {},
   "outputs": [
    {
     "data": {
      "text/plain": [
       "[1, -5, 4, -2, 1, -3, 4, -1, 2]"
      ]
     },
     "execution_count": 22,
     "metadata": {},
     "output_type": "execute_result"
    }
   ],
   "source": [
    "k = 3\n",
    "nums[-k:] + nums[:-k]"
   ]
  },
  {
   "cell_type": "code",
   "execution_count": 24,
   "metadata": {},
   "outputs": [
    {
     "data": {
      "text/plain": [
       "[5, 6, 7, 1, 2, 3, 4]"
      ]
     },
     "execution_count": 24,
     "metadata": {},
     "output_type": "execute_result"
    }
   ],
   "source": [
    "nums = [1,2,3,4,5,6,7]\n",
    "k = 3\n",
    "nums[-k:] + nums[:-k]"
   ]
  },
  {
   "cell_type": "code",
   "execution_count": 30,
   "metadata": {},
   "outputs": [
    {
     "data": {
      "text/plain": [
       "([1, 1, 2, 6], [24, 12, 4, 1])"
      ]
     },
     "execution_count": 30,
     "metadata": {},
     "output_type": "execute_result"
    }
   ],
   "source": [
    "list = [1, 2, 3, 4]\n",
    "def cal_time(list):\n",
    "    n = len(list)\n",
    "    pre_product = [1] * n\n",
    "    post_product = [1] * n\n",
    "    for i in range(1, n):\n",
    "        pre_product[i] = pre_product[i - 1] * list[i - 1]\n",
    "    for i in range(n - 2, -1, -1):\n",
    "        post_product[i] = post_product[i + 1] * list[i + 1]\n",
    "    return pre_product, post_product\n",
    "cal_time(list)"
   ]
  },
  {
   "cell_type": "code",
   "execution_count": 31,
   "metadata": {},
   "outputs": [
    {
     "data": {
      "text/plain": [
       "[1, 2, 3]"
      ]
     },
     "execution_count": 31,
     "metadata": {},
     "output_type": "execute_result"
    }
   ],
   "source": [
    "matrix = [[1,2,3],[4,5,6],[7,8,9]]\n",
    "matrix[0]"
   ]
  },
  {
   "cell_type": "code",
   "execution_count": null,
   "metadata": {},
   "outputs": [],
   "source": []
  },
  {
   "cell_type": "code",
   "execution_count": null,
   "metadata": {},
   "outputs": [
    {
     "name": "stdout",
     "output_type": "stream",
     "text": [
      "[1, 9, 1, 2, 4] [3, 2, 4]\n"
     ]
    },
    {
     "ename": "AttributeError",
     "evalue": "'list' object has no attribute 'next'",
     "output_type": "error",
     "traceback": [
      "\u001b[1;31m---------------------------------------------------------------------------\u001b[0m",
      "\u001b[1;31mAttributeError\u001b[0m                            Traceback (most recent call last)",
      "Cell \u001b[1;32mIn[36], line 11\u001b[0m\n\u001b[0;32m      9\u001b[0m listA \u001b[38;5;241m=\u001b[39m [\u001b[38;5;241m1\u001b[39m,\u001b[38;5;241m9\u001b[39m,\u001b[38;5;241m1\u001b[39m,\u001b[38;5;241m2\u001b[39m,\u001b[38;5;241m4\u001b[39m]\n\u001b[0;32m     10\u001b[0m listB \u001b[38;5;241m=\u001b[39m [\u001b[38;5;241m3\u001b[39m,\u001b[38;5;241m2\u001b[39m,\u001b[38;5;241m4\u001b[39m]\n\u001b[1;32m---> 11\u001b[0m \u001b[43mgetIntersectionNode\u001b[49m\u001b[43m(\u001b[49m\u001b[43mlistA\u001b[49m\u001b[43m,\u001b[49m\u001b[43m \u001b[49m\u001b[43mlistB\u001b[49m\u001b[43m)\u001b[49m\n",
      "Cell \u001b[1;32mIn[36], line 5\u001b[0m, in \u001b[0;36mgetIntersectionNode\u001b[1;34m(headA, headB)\u001b[0m\n\u001b[0;32m      3\u001b[0m \u001b[38;5;28;01mwhile\u001b[39;00m A \u001b[38;5;241m!=\u001b[39m B:\n\u001b[0;32m      4\u001b[0m     \u001b[38;5;28mprint\u001b[39m(A, B)\n\u001b[1;32m----> 5\u001b[0m     A \u001b[38;5;241m=\u001b[39m \u001b[43mA\u001b[49m\u001b[38;5;241;43m.\u001b[39;49m\u001b[43mnext\u001b[49m \u001b[38;5;28;01mif\u001b[39;00m A \u001b[38;5;28;01melse\u001b[39;00m headB\n\u001b[0;32m      6\u001b[0m     B \u001b[38;5;241m=\u001b[39m B\u001b[38;5;241m.\u001b[39mnext \u001b[38;5;28;01mif\u001b[39;00m B \u001b[38;5;28;01melse\u001b[39;00m headA\n\u001b[0;32m      7\u001b[0m     \u001b[38;5;28mprint\u001b[39m(A, B)\n",
      "\u001b[1;31mAttributeError\u001b[0m: 'list' object has no attribute 'next'"
     ]
    }
   ],
   "source": [
    "class Solution:\n",
    "    def removeDuplicates(self, nums: List[int], K: int) -> int:\n",
    "        left = K - 1\n",
    "        for right in range(K, len(nums)):\n",
    "            tag = True\n",
    "            for i in range(K):\n",
    "                tag *= nums[right] == nums[left - i]\n",
    "            if tag:\n",
    "                continue\n",
    "\n",
    "            left += 1\n",
    "            nums[left] = nums[right]\n",
    "        return left + 1"
   ]
  },
  {
   "cell_type": "code",
   "execution_count": 39,
   "metadata": {},
   "outputs": [
    {
     "data": {
      "text/plain": [
       "[1, 2, 3, 4, 1, 2, 3, 4, 1]"
      ]
     },
     "execution_count": 39,
     "metadata": {},
     "output_type": "execute_result"
    }
   ],
   "source": [
    "list"
   ]
  },
  {
   "cell_type": "code",
   "execution_count": 38,
   "metadata": {},
   "outputs": [
    {
     "name": "stdout",
     "output_type": "stream",
     "text": [
      "1\n",
      "3\n",
      "0\n",
      "4\n",
      "5\n",
      "7\n",
      "4\n",
      "0\n",
      "1\n"
     ]
    }
   ],
   "source": [
    "list = [1, 2, 3 ,4] + [1, 2, 3 ,4, 1]\n",
    "\n",
    "x = 0\n",
    "for i in list:\n",
    "    x ^= i\n",
    "    print(x)"
   ]
  },
  {
   "cell_type": "code",
   "execution_count": 42,
   "metadata": {},
   "outputs": [
    {
     "ename": "IndexError",
     "evalue": "list assignment index out of range",
     "output_type": "error",
     "traceback": [
      "\u001b[1;31m---------------------------------------------------------------------------\u001b[0m",
      "\u001b[1;31mIndexError\u001b[0m                                Traceback (most recent call last)",
      "Cell \u001b[1;32mIn[42], line 2\u001b[0m\n\u001b[0;32m      1\u001b[0m nums \u001b[38;5;241m=\u001b[39m [\u001b[38;5;241m2\u001b[39m,\u001b[38;5;241m0\u001b[39m,\u001b[38;5;241m2\u001b[39m,\u001b[38;5;241m1\u001b[39m,\u001b[38;5;241m1\u001b[39m,\u001b[38;5;241m0\u001b[39m]\n\u001b[1;32m----> 2\u001b[0m \u001b[43mnums\u001b[49m\u001b[43m[\u001b[49m\u001b[38;5;241;43m6\u001b[39;49m\u001b[43m]\u001b[49m \u001b[38;5;241m=\u001b[39m \u001b[38;5;241m0\u001b[39m\n\u001b[0;32m      3\u001b[0m nums\n",
      "\u001b[1;31mIndexError\u001b[0m: list assignment index out of range"
     ]
    }
   ],
   "source": [
    "nums = [2,0,2,1,1,0]\n",
    "nums[6] = 0\n",
    "nums"
   ]
  },
  {
   "cell_type": "code",
   "execution_count": 44,
   "metadata": {},
   "outputs": [],
   "source": [
    "grid = [[1,2,3],[4,5,6]]"
   ]
  },
  {
   "cell_type": "code",
   "execution_count": 46,
   "metadata": {},
   "outputs": [
    {
     "data": {
      "text/plain": [
       "(2, 3)"
      ]
     },
     "execution_count": 46,
     "metadata": {},
     "output_type": "execute_result"
    }
   ],
   "source": [
    "len(grid), len(grid[0])"
   ]
  },
  {
   "cell_type": "code",
   "execution_count": 47,
   "metadata": {},
   "outputs": [
    {
     "data": {
      "text/plain": [
       "[[False, False, False], [False, False, False], [False, False, False]]"
      ]
     },
     "execution_count": 47,
     "metadata": {},
     "output_type": "execute_result"
    }
   ],
   "source": [
    "n = 3\n",
    "[[False] * n for _ in range(n)]"
   ]
  },
  {
   "cell_type": "code",
   "execution_count": 48,
   "metadata": {},
   "outputs": [
    {
     "name": "stdout",
     "output_type": "stream",
     "text": [
      "1\n",
      "2\n",
      "3\n",
      "4\n"
     ]
    }
   ],
   "source": [
    "for i in range(1, 5, 1):\n",
    "    print(i)"
   ]
  },
  {
   "cell_type": "code",
   "execution_count": 49,
   "metadata": {},
   "outputs": [
    {
     "name": "stdout",
     "output_type": "stream",
     "text": [
      "5\n",
      "4\n",
      "3\n",
      "2\n"
     ]
    }
   ],
   "source": [
    "for i in range(5, 1, -1):\n",
    "    print(i)"
   ]
  },
  {
   "cell_type": "code",
   "execution_count": null,
   "metadata": {},
   "outputs": [],
   "source": []
  },
  {
   "cell_type": "code",
   "execution_count": 51,
   "metadata": {},
   "outputs": [
    {
     "name": "stdout",
     "output_type": "stream",
     "text": [
      "bb\n",
      "1\n",
      "b\n",
      "1\n",
      "b\n",
      "1\n"
     ]
    }
   ],
   "source": [
    "s = \"bb\"\n",
    "n = len(s)\n",
    "\n",
    "for length in range(n, 0, -1):\n",
    "    for start in range(n - length + 1):\n",
    "        end = start + length\n",
    "        print(s[start:end])\n",
    "        if s[start:end] == s[start:end][::-1]:\n",
    "            print(1)"
   ]
  },
  {
   "cell_type": "code",
   "execution_count": 53,
   "metadata": {},
   "outputs": [
    {
     "data": {
      "text/plain": [
       "[[0, 0, 0, 0, 0, 0, 0, 0],\n",
       " [0, 0, 0, 0, 0, 1, 1, 1],\n",
       " [0, 1, 1, 1, 1, 1, 1, 1],\n",
       " [0, 1, 1, 1, 1, 1, 1, 1],\n",
       " [0, 1, 1, 2, 2, 2, 2, 2],\n",
       " [0, 1, 1, 2, 2, 3, 3, 3],\n",
       " [0, 1, 1, 2, 2, 3, 3, 4]]"
      ]
     },
     "execution_count": 53,
     "metadata": {},
     "output_type": "execute_result"
    }
   ],
   "source": [
    "def lcs_dp(X, Y):\n",
    "    m = len(X)\n",
    "    n = len(Y)\n",
    "    # 创建一个(m+1) x (n+1)的表格\n",
    "    dp = [[0]*(n+1) for _ in range(m+1)]\n",
    "\n",
    "    # 填充表格\n",
    "    for i in range(1, m+1):\n",
    "        for j in range(1, n+1):\n",
    "            if X[i-1] == Y[j-1]:\n",
    "                dp[i][j] = dp[i-1][j-1] + 1\n",
    "            else:\n",
    "                dp[i][j] = max(dp[i-1][j], dp[i][j-1])\n",
    "\n",
    "    return dp\n",
    "\n",
    "# 示例\n",
    "X = \"AGGTAB\"\n",
    "Y = \"GXTXAYB\"\n",
    "lcs_dp(X, Y)\n"
   ]
  },
  {
   "cell_type": "code",
   "execution_count": null,
   "metadata": {},
   "outputs": [],
   "source": [
    "class Solution:\n",
    "    def minSubArrayLen(self, target: int, nums: List[int]) -> int:\n",
    "        n = len(nums)\n",
    "        ans = n + 1\n",
    "        left = 0\n",
    "        cumsum = 0\n",
    "        for right, num in enumerate(nums):\n",
    "            cumsum += num\n",
    "            while cumsum >= target:\n",
    "                ans = min(ans, right - left + 1)\n",
    "                cumsum -= nums[left]\n",
    "                left += 1\n",
    "        return ans if ans <= n else 0\n",
    "        "
   ]
  },
  {
   "cell_type": "code",
   "execution_count": 54,
   "metadata": {},
   "outputs": [
    {
     "data": {
      "text/plain": [
       "[[0, 0, 0, 0, 0],\n",
       " [0, 0, 0, 0, 0],\n",
       " [0, 0, 0, 0, 0],\n",
       " [0, 0, 0, 0, 0],\n",
       " [0, 0, 0, 0, 0]]"
      ]
     },
     "execution_count": 54,
     "metadata": {},
     "output_type": "execute_result"
    }
   ],
   "source": [
    "n = 5\n",
    "[[0] * n for _ in range(n)]"
   ]
  },
  {
   "cell_type": "code",
   "execution_count": 55,
   "metadata": {},
   "outputs": [],
   "source": [
    "from collections import defaultdict"
   ]
  },
  {
   "cell_type": "code",
   "execution_count": 56,
   "metadata": {},
   "outputs": [],
   "source": [
    "res = defaultdict(int)\n",
    "for i in range(5):\n",
    "    if i in res:\n",
    "        print(i)"
   ]
  },
  {
   "cell_type": "code",
   "execution_count": 58,
   "metadata": {},
   "outputs": [
    {
     "data": {
      "text/plain": [
       "dict_values([])"
      ]
     },
     "execution_count": 58,
     "metadata": {},
     "output_type": "execute_result"
    }
   ],
   "source": [
    "res.values()"
   ]
  },
  {
   "cell_type": "code",
   "execution_count": 59,
   "metadata": {},
   "outputs": [],
   "source": [
    "res.get(5)"
   ]
  },
  {
   "cell_type": "code",
   "execution_count": 1,
   "metadata": {},
   "outputs": [
    {
     "data": {
      "text/plain": [
       "[2, 3, 4, 5, 6, 3, 4, 5, 6, 7, 4, 5, 6, 7, 8, 5, 6, 7, 8, 9, 6, 7, 8, 9, 10]"
      ]
     },
     "execution_count": 1,
     "metadata": {},
     "output_type": "execute_result"
    }
   ],
   "source": [
    "x, y = [1, 2, 3, 4, 5], [1, 2, 3, 4, 5]\n",
    "[i + j for i in x for j in y]"
   ]
  },
  {
   "cell_type": "code",
   "execution_count": 2,
   "metadata": {},
   "outputs": [
    {
     "data": {
      "text/plain": [
       "25"
      ]
     },
     "execution_count": 2,
     "metadata": {},
     "output_type": "execute_result"
    }
   ],
   "source": [
    "len([i + j for i in x for j in y])"
   ]
  },
  {
   "cell_type": "code",
   "execution_count": 3,
   "metadata": {},
   "outputs": [
    {
     "name": "stdout",
     "output_type": "stream",
     "text": [
      "a\n",
      "a\n",
      "b\n"
     ]
    }
   ],
   "source": [
    "for x in 'aab':\n",
    "    print(x)"
   ]
  },
  {
   "cell_type": "code",
   "execution_count": 9,
   "metadata": {},
   "outputs": [
    {
     "data": {
      "text/plain": [
       "1"
      ]
     },
     "execution_count": 9,
     "metadata": {},
     "output_type": "execute_result"
    }
   ],
   "source": [
    "from collections import Counter\n",
    "min(Counter([1, 2, 3, 4, 5]).values())"
   ]
  },
  {
   "cell_type": "code",
   "execution_count": 10,
   "metadata": {},
   "outputs": [
    {
     "data": {
      "text/plain": [
       "Counter({'a': 2})"
      ]
     },
     "execution_count": 10,
     "metadata": {},
     "output_type": "execute_result"
    }
   ],
   "source": [
    "ransomNote = \"aa\"\n",
    "magazine = \"aab\"\n",
    "res = Counter(ransomNote)\n",
    "res"
   ]
  },
  {
   "cell_type": "code",
   "execution_count": 13,
   "metadata": {},
   "outputs": [
    {
     "data": {
      "text/plain": [
       "Counter()"
      ]
     },
     "execution_count": 13,
     "metadata": {},
     "output_type": "execute_result"
    }
   ],
   "source": [
    "Counter(ransomNote) - Counter(magazine)"
   ]
  },
  {
   "cell_type": "markdown",
   "metadata": {},
   "source": [
    "#### 四数之和"
   ]
  },
  {
   "cell_type": "code",
   "execution_count": null,
   "metadata": {},
   "outputs": [],
   "source": [
    "class Solution:\n",
    "    def fourSum(self, nums: List[int], target: int) -> List[List[int]]:\n",
    "        ### 排序复杂度nlogn\n",
    "        nums.sort()\n",
    "        \n",
    "        n = len(nums)\n",
    "        res = []\n",
    "        for a in range(n - 3):\n",
    "            x = nums[a]\n",
    "            ### 如果新的第一个数与前一个数相同 则会出现满足条件的重复四元组 跳过\n",
    "            if a > 0 and x == nums[a - 1]:\n",
    "                continue\n",
    "            ### 最小的四个数都大于target 没必要继续\n",
    "            if x + nums[a + 1] + nums[a + 2] + nums[a + 3] > target:\n",
    "                break\n",
    "            ### 最大的四个数小于target 最左边的数要往右边增\n",
    "            if x + nums[-3] + nums[-2] + nums[-1] < target:\n",
    "                continue\n",
    "            for b in range(a + 1, n - 2):\n",
    "                y = nums[b]\n",
    "                if b > a + 1 and y == nums[b - 1]:\n",
    "                    continue\n",
    "                if x + y + nums[b + 1] + nums [b + 2] > target:\n",
    "                    break\n",
    "                if x + y + nums[-2] + nums [-1] < target:\n",
    "                    continue\n",
    "                c = b + 1\n",
    "                d = n - 1\n",
    "                while c < d:\n",
    "                    s = x + y + nums[c] + nums[d]\n",
    "                    if s < target:\n",
    "                        c += 1\n",
    "                    elif s > target:\n",
    "                        d -= 1\n",
    "                    else:\n",
    "                        res.append([x, y, nums[c], nums[d]])\n",
    "                        c += 1\n",
    "                        while c < d and nums[c] == nums[c - 1]:  # 跳过重复数字\n",
    "                            c += 1\n",
    "                        d -= 1\n",
    "                        while d > c and nums[d] == nums[d + 1]:  # 跳过重复数字\n",
    "                            d -= 1\n",
    "        return res"
   ]
  },
  {
   "cell_type": "code",
   "execution_count": null,
   "metadata": {},
   "outputs": [],
   "source": []
  },
  {
   "cell_type": "code",
   "execution_count": 2,
   "metadata": {},
   "outputs": [
    {
     "name": "stdout",
     "output_type": "stream",
     "text": [
      "318\n"
     ]
    }
   ],
   "source": [
    "def next_greater_number(n: int) -> int:\n",
    "    # 将数字转换为字符列表以便操作\n",
    "    digits = list(str(n))\n",
    "    \n",
    "    # Step 1: Find the first decreasing element from the right\n",
    "    k = len(digits) - 2\n",
    "    while k >= 0 and digits[k] >= digits[k + 1]:\n",
    "        k -= 1\n",
    "    \n",
    "    # Step 2: If no such element is found, the number is already the largest\n",
    "    if k == -1:\n",
    "        return n\n",
    "    \n",
    "    # Step 3: Find the smallest number larger than digits[k] to the right\n",
    "    l = len(digits) - 1\n",
    "    while digits[l] <= digits[k]:\n",
    "        l -= 1\n",
    "    \n",
    "    # Step 4: Swap digits[k] and digits[l]\n",
    "    digits[k], digits[l] = digits[l], digits[k]\n",
    "    \n",
    "    # Step 5: Reverse the sequence from k+1 to the end to get the smallest permutation\n",
    "    digits = digits[:k+1] + sorted(digits[k+1:])\n",
    "    \n",
    "    # Convert the list of digits back to an integer\n",
    "    return int(\"\".join(digits))\n",
    "\n",
    "# 示例\n",
    "n = 183\n",
    "result = next_greater_number(n)\n",
    "print(result) \n"
   ]
  },
  {
   "cell_type": "code",
   "execution_count": 1,
   "metadata": {},
   "outputs": [
    {
     "data": {
      "text/plain": [
       "[[0, 0, 0, 0],\n",
       " [0, 0, 0, 0],\n",
       " [0, 0, 0, 0],\n",
       " [0, 0, 0, 0],\n",
       " [0, 0, 0, 0],\n",
       " [0, 0, 0, 0]]"
      ]
     },
     "execution_count": 1,
     "metadata": {},
     "output_type": "execute_result"
    }
   ],
   "source": [
    "n, m = 5, 3\n",
    "[[0] * (m + 1) for _ in range(n + 1)]"
   ]
  },
  {
   "cell_type": "code",
   "execution_count": null,
   "metadata": {},
   "outputs": [],
   "source": [
    "[3, 1]\n",
    "[4, 3, 2, 1]\n",
    "[4, 4]"
   ]
  },
  {
   "cell_type": "code",
   "execution_count": 2,
   "metadata": {},
   "outputs": [
    {
     "data": {
      "text/plain": [
       "(False, True)"
      ]
     },
     "execution_count": 2,
     "metadata": {},
     "output_type": "execute_result"
    }
   ],
   "source": [
    "def non_desecnd_arry(nums):\n",
    "    n = len(nums)\n",
    "    min_num = nums[0]\n",
    "    for i in range(1, n):\n",
    "        if nums[i] > min_num:\n",
    "            return False\n",
    "        min_num = min(min_num, nums[i])\n",
    "    return True\n",
    "\n",
    "non_desecnd_arry([5, 4, 5]), non_desecnd_arry([5, 4, 3, 2, 1])"
   ]
  },
  {
   "cell_type": "code",
   "execution_count": 9,
   "metadata": {},
   "outputs": [
    {
     "name": "stdout",
     "output_type": "stream",
     "text": [
      "0.2\n",
      "0.4\n",
      "0.6\n",
      "0.8\n",
      "1.0\n"
     ]
    },
    {
     "data": {
      "text/plain": [
       "[[0, 0], [1.0, 1.0], [0.75, 1.0], [0.5, 1.0], [0.25, 1.0], [0.25, 0.0], [1, 1]]"
      ]
     },
     "execution_count": 9,
     "metadata": {},
     "output_type": "execute_result"
    }
   ],
   "source": [
    "import pandas as pd\n",
    "import numpy as np\n",
    "def calc_auc(scores, labels):\n",
    "    df = pd.DataFrame({'pred':scores, 'label':labels})\n",
    "    df = df.sort_values(by = 'pred', ascending = True)\n",
    "\n",
    "    output = []\n",
    "    for i in range(len(df)):\n",
    "        thre = df.iloc[i, 0]\n",
    "        print(thre)\n",
    "        # df = df[df['pred'] <= thre].reset_index(drop = True)\n",
    "        # print(df.shape[0])\n",
    "        df['pred_label'] = df['pred'].apply(lambda x:1 if x >= thre else 0)\n",
    "        tp = df[(df['pred_label'] == 1) & (df['label'] == 1)].shape[0]\n",
    "        tn = df[(df['pred_label'] == 0) & (df['label'] == 0)].shape[0]\n",
    "        fp = df[(df['pred_label'] == 1) & (df['label'] == 0)].shape[0]\n",
    "        fn = df[(df['pred_label'] == 0) & (df['label'] == 1)].shape[0]\n",
    "        \n",
    "        tpr = tp / (tp + fn)\n",
    "        fpr = fp / (fp + tn)\n",
    "        output.append([fpr, tpr])\n",
    "        \n",
    "    output = [[0, 0]] + output + [[1,1]]\n",
    "        \n",
    "    \n",
    "    return output\n",
    "    \n",
    "calc_auc([0.2, 0.4, 0.6, 0.8, 1], [0, 0, 0, 1, 0])"
   ]
  },
  {
   "cell_type": "code",
   "execution_count": null,
   "metadata": {},
   "outputs": [],
   "source": []
  }
 ],
 "metadata": {
  "kernelspec": {
   "display_name": "Python 3",
   "language": "python",
   "name": "python3"
  },
  "language_info": {
   "codemirror_mode": {
    "name": "ipython",
    "version": 3
   },
   "file_extension": ".py",
   "mimetype": "text/x-python",
   "name": "python",
   "nbconvert_exporter": "python",
   "pygments_lexer": "ipython3",
   "version": "3.10.9"
  }
 },
 "nbformat": 4,
 "nbformat_minor": 2
}
