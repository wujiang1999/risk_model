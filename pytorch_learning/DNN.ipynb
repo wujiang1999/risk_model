{
 "cells": [
  {
   "cell_type": "code",
   "execution_count": null,
   "metadata": {},
   "outputs": [],
   "source": [
    "import torch\n",
    "import torch.nn as nn\n",
    "\n",
    "class EarlyStopping:\n",
    "    def __init__(self, metric = 'val_auc', round = 10, min_delta = 1e-3, \n",
    "                 verbose = False, restore_best_weights = True, mode = 'max'):\n",
    "        self.metric = metric\n",
    "        self.round = round\n",
    "        self.min_delta = min_delta\n",
    "        self.verbose = verbose\n",
    "        self.restore_best_weights = restore_best_weights\n",
    "        self.mode = mode\n",
    "        self.best_score = None\n",
    "        self.count = 0\n",
    "        self.early_stop = False\n",
    "        self.best_weights = None\n",
    "        \n",
    "        if self.mode == 'min':\n",
    "            self.is_improvement = lambda current, best:current < best - self.min_delta\n",
    "        elif self.mode == 'max':\n",
    "            self.is_improvement = lambda current, best:current > best + self.min_delta\n",
    "        else:\n",
    "            raise ValueError(\"mode must be 'min' or 'max'\")\n",
    "        \n",
    "    def __call__(self, current_score, model):\n",
    "        if self.best_score is None:\n",
    "            self.best_score = current_score\n",
    "            if self.verbose:\n",
    "                print(f'Initial {self.metric} is set as {self.best_score:.4f}')\n",
    "            if self.restore_best_weights:\n",
    "                self.best_weights = self.__get_weights__(model.state_dict())\n",
    "        elif self.is_improvement(current_score, self.best_score):\n",
    "            if self.verbose:\n",
    "                improvement = 'raise' if self.mode == 'max' else 'fall'\n",
    "                print(f'{self.metric} {improvement} from {self.best_score:.4f} to {current_score:.4f}, early stopping count reset')\n",
    "            if self.restore_best_weights:\n",
    "                self.best_weights = self.__get_weights__(model.state_dict())\n",
    "            self.best_score = current_score\n",
    "            self.count = 0\n",
    "        else:\n",
    "            self.count += 1\n",
    "            if self.verbose:\n",
    "                print(f'Early stopping count {self.count}/{self.round}')\n",
    "            if self.count >= self.round:\n",
    "                if self.verbose:\n",
    "                    print(f'{self.metric} early stopping triggered after {self.count} rounds')\n",
    "                self.early_stop = True\n",
    "            \n",
    "                \n",
    "    def __get_weights__(self, state_dict):\n",
    "        return {k:v.clone().detach() for k, v in state_dict.items()}\n",
    "    \n",
    "    def __load_best_weights__(self, model):\n",
    "        if self.best_weights:\n",
    "            model.load_state_dict(self.best_weights)"
   ]
  }
 ],
 "metadata": {
  "kernelspec": {
   "display_name": "Python 3",
   "language": "python",
   "name": "python3"
  },
  "language_info": {
   "codemirror_mode": {
    "name": "ipython",
    "version": 3
   },
   "file_extension": ".py",
   "mimetype": "text/x-python",
   "name": "python",
   "nbconvert_exporter": "python",
   "pygments_lexer": "ipython3",
   "version": "3.10.9"
  }
 },
 "nbformat": 4,
 "nbformat_minor": 2
}
